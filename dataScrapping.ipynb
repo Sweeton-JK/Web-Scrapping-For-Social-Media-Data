{
 "cells": [
  {
   "cell_type": "code",
   "execution_count": 1,
   "metadata": {},
   "outputs": [],
   "source": [
    "from selenium import webdriver\n",
    "from selenium.webdriver.chrome.options import Options\n",
    "from bs4 import BeautifulSoup\n",
    "import pandas as pd"
   ]
  },
  {
   "cell_type": "code",
   "execution_count": 2,
   "metadata": {},
   "outputs": [],
   "source": [
    "def get_twitter_data(username):\n",
    "  url = \"https://twitter.com/{}\".format(username)\n",
    "  response = requests.get(url)\n",
    "  soup = bs4.BeautifulSoup(response.content, \"html.parser\")\n",
    "\n",
    "  tweets = []\n",
    "  for tweet in soup.find_all(\"div\", class_=\"js-tweet-text\"):\n",
    "    tweets.append(tweet.text)\n",
    "\n",
    "  return tweets"
   ]
  },
  {
   "cell_type": "code",
   "execution_count": 3,
   "metadata": {},
   "outputs": [],
   "source": [
    "def get_facebook_data(username):\n",
    "  url = \"https://www.facebook.com/{}\".format(username)\n",
    "  response = requests.get(url)\n",
    "  soup = bs4.BeautifulSoup(response.content, \"html.parser\")\n",
    "\n",
    "  posts = []\n",
    "  for post in soup.find_all(\"div\", class_=\"_5pbx\"):\n",
    "    posts.append(post.text)\n",
    "\n",
    "  return posts"
   ]
  },
  {
   "cell_type": "code",
   "execution_count": 4,
   "metadata": {},
   "outputs": [],
   "source": [
    "def get_snapchat_data(username):\n",
    "  url = \"https://www.snapchat.com/add/{}\".format(username)\n",
    "  response = requests.get(url)\n",
    "  soup = bs4.BeautifulSoup(response.content, \"html.parser\")\n",
    "\n",
    "  stories = []\n",
    "  for story in soup.find_all(\"div\", class_=\"_272t\"):\n",
    "    stories.append(story.text)\n",
    "\n",
    "  return stories"
   ]
  },
  {
   "cell_type": "code",
   "execution_count": 5,
   "metadata": {},
   "outputs": [
    {
     "name": "stdout",
     "output_type": "stream",
     "text": [
      "Twitter data:\n",
      "[]\n",
      "Facebook data:\n",
      "[]\n",
      "Snapchat data:\n",
      "[]\n"
     ]
    }
   ],
   "source": [
    "if __name__ == \"__main__\":\n",
    "  twitter_data = get_twitter_data(\"elonmusk\")\n",
    "  facebook_data = get_facebook_data(\"markzuckerberg\")\n",
    "  snapchat_data = get_snapchat_data(\"snapchat\")\n",
    "\n",
    "  print(\"Twitter data:\")\n",
    "  print(twitter_data)\n",
    "\n",
    "  print(\"Facebook data:\")\n",
    "  print(facebook_data)\n",
    "\n",
    "  print(\"Snapchat data:\")\n",
    "  print(snapchat_data)"
   ]
  }
 ],
 "metadata": {
  "kernelspec": {
   "display_name": "Python 3",
   "language": "python",
   "name": "python3"
  },
  "language_info": {
   "codemirror_mode": {
    "name": "ipython",
    "version": 3
   },
   "file_extension": ".py",
   "mimetype": "text/x-python",
   "name": "python",
   "nbconvert_exporter": "python",
   "pygments_lexer": "ipython3",
   "version": "3.11.4"
  },
  "orig_nbformat": 4
 },
 "nbformat": 4,
 "nbformat_minor": 2
}
