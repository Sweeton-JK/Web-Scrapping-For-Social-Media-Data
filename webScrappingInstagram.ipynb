{
 "cells": [
  {
   "cell_type": "code",
   "execution_count": 30,
   "metadata": {},
   "outputs": [],
   "source": [
    "from selenium import webdriver\n",
    "from selenium.webdriver.chrome.options import Options\n",
    "from bs4 import BeautifulSoup\n",
    "import pandas as pd"
   ]
  },
  {
   "cell_type": "code",
   "execution_count": 31,
   "metadata": {},
   "outputs": [],
   "source": [
    "def get_snapchat_data(username):\n",
    "  url = \"https://www.snapchat.com/add/sweet?sender_web_id=f0c2e557-ecd1-45e8-aa50-75c0abe1536c&device_type=desktop&is_copy_url=true\"\n",
    "  response = requests.get(url)\n",
    "  soup = BeautifulSoup(response.content, \"html.parser\")\n",
    "\n",
    "  data = {}\n",
    "  data[\"username\"] = username\n",
    "  data[\"profile_picture\"] = soup.find(\"img\", {\"class\": \"_4x4\"})[\"src\"]\n",
    "  data[\"biography\"] = soup.find(\"div\", {\"class\": \"_371\"}).text\n",
    "  data[\"snapscore\"] = soup.find(\"span\", {\"class\": \"_372\"}).text\n",
    "\n",
    "  return data"
   ]
  },
  {
   "cell_type": "code",
   "execution_count": 32,
   "metadata": {},
   "outputs": [
    {
     "name": "stdout",
     "output_type": "stream",
     "text": [
      "The username is invalid.\n"
     ]
    }
   ],
   "source": [
    "if __name__ == \"__main__\":\n",
    "  username = input(\"Enter the Snapchat username: \")\n",
    "\n",
    "  try:\n",
    "    data = get_snapchat_data(username)\n",
    "  except TypeError:\n",
    "    data = \"The username is invalid.\"\n",
    "\n",
    "  print(data)"
   ]
  }
 ],
 "metadata": {
  "kernelspec": {
   "display_name": "Python 3",
   "language": "python",
   "name": "python3"
  },
  "language_info": {
   "codemirror_mode": {
    "name": "ipython",
    "version": 3
   },
   "file_extension": ".py",
   "mimetype": "text/x-python",
   "name": "python",
   "nbconvert_exporter": "python",
   "pygments_lexer": "ipython3",
   "version": "3.11.4"
  },
  "orig_nbformat": 4
 },
 "nbformat": 4,
 "nbformat_minor": 2
}
